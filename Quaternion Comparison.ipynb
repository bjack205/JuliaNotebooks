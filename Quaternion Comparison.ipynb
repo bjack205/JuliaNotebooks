{
 "cells": [
  {
   "cell_type": "code",
   "execution_count": 36,
   "metadata": {},
   "outputs": [
    {
     "name": "stderr",
     "output_type": "stream",
     "text": [
      "WARNING: using Quaternions.Quaternion in module Main conflicts with an existing identifier.\n"
     ]
    }
   ],
   "source": [
    "using StaticArrays\n",
    "using LinearAlgebra\n",
    "using Rotations\n",
    "include(\"quaternions.jl\")\n",
    "using Quaternions\n",
    "using BenchmarkTools\n",
    "using Test"
   ]
  },
  {
   "cell_type": "code",
   "execution_count": 58,
   "metadata": {},
   "outputs": [
    {
     "data": {
      "text/plain": [
       "3-element SArray{Tuple{3},Float64,1,3} with indices SOneTo(3):\n",
       " 0.12027330988983298\n",
       " 0.19967162810951322\n",
       " 0.3148016558090936 "
      ]
     },
     "execution_count": 58,
     "metadata": {},
     "output_type": "execute_result"
    }
   ],
   "source": [
    "q1_ = normalize(@SVector rand(4))\n",
    "q2_ = normalize(@SVector rand(4))\n",
    "r = @SVector rand(3)"
   ]
  },
  {
   "cell_type": "markdown",
   "metadata": {},
   "source": [
    "# Quaternion Multiplication\n",
    "## Rotations.jl"
   ]
  },
  {
   "cell_type": "code",
   "execution_count": 88,
   "metadata": {},
   "outputs": [
    {
     "name": "stdout",
     "output_type": "stream",
     "text": [
      "sizeof(q1) = 32\n",
      "sizeof(RotMatrix(q1)) = 72\n",
      "  9.929 ns (0 allocations: 0 bytes)\n"
     ]
    }
   ],
   "source": [
    "q1 = Quat(q1_...)\n",
    "q2 = Quat(q2_...)\n",
    "@show sizeof(q1)\n",
    "@show sizeof(RotMatrix(q1))\n",
    "q0 = q1*q2\n",
    "\n",
    "@btime $q0 = $q1*$q2;"
   ]
  },
  {
   "cell_type": "code",
   "execution_count": 89,
   "metadata": {},
   "outputs": [
    {
     "name": "stdout",
     "output_type": "stream",
     "text": [
      "sizeof(q1) = 40\n",
      "  0.024 ns (0 allocations: 0 bytes)\n"
     ]
    }
   ],
   "source": [
    "# Quaternions.jl\n",
    "q1 = Quaternions.Quaternion(q1_...)\n",
    "q2 = Quaternions.Quaternion(q2_...)\n",
    "@show sizeof(q1)\n",
    "\n",
    "q = q1*q2\n",
    "@test q0.w ≈ q.s\n",
    "@test q0.x ≈ q.v1\n",
    "@test q0.y ≈ q.v2\n",
    "@test q0.z ≈ q.v3\n",
    "\n",
    "@btime $q = $q1*$q2;"
   ]
  },
  {
   "cell_type": "code",
   "execution_count": 90,
   "metadata": {},
   "outputs": [
    {
     "name": "stdout",
     "output_type": "stream",
     "text": [
      "sizeof(q1) = 32\n",
      "  12.310 ns (0 allocations: 0 bytes)\n",
      "  12.293 ns (0 allocations: 0 bytes)\n"
     ]
    }
   ],
   "source": [
    "# Our quaternions\n",
    "q1 = Quaternion(q1_)\n",
    "q2 = Quaternion(q2_)\n",
    "@show sizeof(q1)\n",
    "\n",
    "@inline function Base.:*(q2::Quaternion, q1::Quaternion)\n",
    "    qmult(q2,q1)\n",
    "end\n",
    "\n",
    "function qmult(q2::Quaternion, q1::Quaternion)\n",
    "    w1,v1 = scalar(q1), vector(q1)\n",
    "    w2,v2 = scalar(q2),vector(q2)\n",
    "    w = w1*w2 - v1'v2\n",
    "    v = w1*v2 + w2*v1 + cross(v2, v1)\n",
    "    return Quaternion(w,v)\n",
    "end\n",
    "\n",
    "q = q1*q2\n",
    "# @test q0.w ≈ q.w\n",
    "# @test q0.x ≈ q.v1\n",
    "# @test q0.y ≈ q.v2\n",
    "# @test q0.z ≈ q.v3\n",
    "\n",
    "\n",
    "@btime $q = qmult($q2,$q1);\n",
    "@btime $q = $q2*$q1;"
   ]
  },
  {
   "cell_type": "markdown",
   "metadata": {},
   "source": [
    "# Vector Rotation\n",
    "## Rotations.jl"
   ]
  },
  {
   "cell_type": "code",
   "execution_count": 91,
   "metadata": {},
   "outputs": [
    {
     "name": "stdout",
     "output_type": "stream",
     "text": [
      "  0.024 ns (0 allocations: 0 bytes)\n"
     ]
    }
   ],
   "source": [
    "q1 = Quat(q1_...)\n",
    "r0 = q1*r\n",
    "@btime $r0 = $q1*$r;"
   ]
  },
  {
   "cell_type": "markdown",
   "metadata": {},
   "source": [
    "# Quaternions.jl"
   ]
  },
  {
   "cell_type": "code",
   "execution_count": 92,
   "metadata": {},
   "outputs": [
    {
     "name": "stdout",
     "output_type": "stream",
     "text": [
      "  0.024 ns (0 allocations: 0 bytes)\n"
     ]
    },
    {
     "data": {
      "text/plain": [
       "Quaternions.Quaternion{Float64}(-6.938893903907228e-18, 0.2087775247318696, 0.30261193054021607, 0.1351757201033663, false)"
      ]
     },
     "execution_count": 92,
     "metadata": {},
     "output_type": "execute_result"
    }
   ],
   "source": [
    "q1 = Quaternions.Quaternion(q1_...)\n",
    "rhat = Quaternions.Quaternion(Vector(r))\n",
    "r1 = q1*rhat*conj(q1)\n",
    "@test [r1.v1, r1.v2, r1.v3] ≈ r0\n",
    "@btime $r1 = $q1*$rhat*conj($q1)"
   ]
  },
  {
   "cell_type": "markdown",
   "metadata": {},
   "source": [
    "## Our Quaternions"
   ]
  },
  {
   "cell_type": "code",
   "execution_count": 93,
   "metadata": {},
   "outputs": [
    {
     "name": "stdout",
     "output_type": "stream",
     "text": [
      "  5.635 ns (0 allocations: 0 bytes)\n"
     ]
    }
   ],
   "source": [
    "q1 = Quaternion(q1_)\n",
    "@test rotate(r,q1) ≈ r0\n",
    "@btime $r2 = rotate($r,$q1);"
   ]
  }
 ],
 "metadata": {
  "kernelspec": {
   "display_name": "Julia 1.2.0",
   "language": "julia",
   "name": "julia-1.2"
  },
  "language_info": {
   "file_extension": ".jl",
   "mimetype": "application/julia",
   "name": "julia",
   "version": "1.2.0"
  }
 },
 "nbformat": 4,
 "nbformat_minor": 2
}
